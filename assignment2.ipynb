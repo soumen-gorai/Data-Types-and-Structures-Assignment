{
  "nbformat": 4,
  "nbformat_minor": 0,
  "metadata": {
    "colab": {
      "provenance": [],
      "authorship_tag": "ABX9TyOhVTfZDTVkrsE20BnnnH8H",
      "include_colab_link": true
    },
    "kernelspec": {
      "name": "python3",
      "display_name": "Python 3"
    },
    "language_info": {
      "name": "python"
    }
  },
  "cells": [
    {
      "cell_type": "markdown",
      "metadata": {
        "id": "view-in-github",
        "colab_type": "text"
      },
      "source": [
        "<a href=\"https://colab.research.google.com/github/soumen-gorai/assignment2/blob/main/assignment2.ipynb\" target=\"_parent\"><img src=\"https://colab.research.google.com/assets/colab-badge.svg\" alt=\"Open In Colab\"/></a>"
      ]
    },
    {
      "cell_type": "code",
      "source": [
        "#1 Discuss string slicing and provide examples\n",
        "string = \"Soumen Gorai\"\n",
        "substring = string[:6]# Slice from index 0-6\n",
        "print(substring)\n",
        "substring1= string[7:]# Slice from index 7-last\n",
        "print(substring1)\n",
        "substring = string[::2]#Slice with a step of 2\n",
        "print(substring)\n",
        "substring = string[-8:-3]#negative indexing\n",
        "print(substring)\n"
      ],
      "metadata": {
        "colab": {
          "base_uri": "https://localhost:8080/"
        },
        "id": "Ttl-WBdRjlZ1",
        "outputId": "43efd365-44b0-48c8-f932-edaeda7422cb"
      },
      "execution_count": null,
      "outputs": [
        {
          "output_type": "stream",
          "name": "stdout",
          "text": [
            "Soumen\n",
            "Gorai\n",
            "Sue oa\n",
            "en Go\n"
          ]
        }
      ]
    },
    {
      "cell_type": "code",
      "source": [
        "#2 Explain the key features of lists in Python\n",
        "list = [10, 20, 30, 40, 50]\n",
        "print(list[0])\n",
        "print(list[-1])\n",
        "list[1]=70\n",
        "print(list)\n",
        "print(list[:3])\n",
        "nested_list = [[1, 2], [3, 4], [5, 6]]\n",
        "print(nested_list[0])"
      ],
      "metadata": {
        "colab": {
          "base_uri": "https://localhost:8080/"
        },
        "id": "YNjd6DycjlKe",
        "outputId": "88ca3c0a-e492-446d-ebc1-35b8f7c43c0a"
      },
      "execution_count": null,
      "outputs": [
        {
          "output_type": "stream",
          "name": "stdout",
          "text": [
            "10\n",
            "50\n",
            "[10, 70, 30, 40, 50]\n",
            "[10, 70, 30]\n",
            "[1, 2]\n"
          ]
        }
      ]
    },
    {
      "cell_type": "markdown",
      "source": [
        "#2] Explain the key features of lists in Python\n",
        "#:- In Python, lists are one of the most versatile and widely used data structures. They are used to store an ordered collection of items, and their flexibility makes them suitable for a wide range of programming tasks.\n",
        "#1. Ordered Collection:-\n",
        "#2. Mutable:- Lists are mutable, meaning that their elements can be changed.\n",
        "#3. Indexed and Sliced :- Lists support indexing to access individual elements and slicing . You can access a range of elements by slicing.\n",
        "#**4**. Nested Lists:- Lists can contain other lists as elements, allowing the creation of multi-dimensional or nested lists."
      ],
      "metadata": {
        "id": "parUN3EXj8f8"
      }
    },
    {
      "cell_type": "code",
      "execution_count": null,
      "metadata": {
        "id": "-WOG9LlrMnYx",
        "colab": {
          "base_uri": "https://localhost:8080/"
        },
        "outputId": "f4a6925f-ffb9-4850-99d7-c0d95f7a7dd0"
      },
      "outputs": [
        {
          "output_type": "stream",
          "name": "stdout",
          "text": [
            "70\n",
            "90\n",
            "[30, 50]\n",
            "[20, 30, 50]\n",
            "[20, 30, 40, 50, 60]\n",
            "[20, 30, 90, 50, 60]\n",
            "[20, 29, 39, 48, 50, 60]\n",
            "[60, 80, 78, 97, 45]\n",
            "[60, 78, 97, 45]\n",
            "98\n",
            "[30, 56, 78]\n",
            "78\n",
            "[30, 56]\n"
          ]
        }
      ],
      "source": [
        "#3 Describe how to access, modify, and delete elements in a list with examples\n",
        "#accessing element\n",
        "list1=[20,30,50,70,90]\n",
        "print(list1[3])#i access 70 using 3 positive index\n",
        "print(list1[-1])#i access 90 using -1 negative index\n",
        "print(list1[1:3])#i access 1 to 3 using positive index\n",
        "print(list1[:3])#i access from first to 3 using positive index\n",
        "#modifying list\n",
        "list2=[20,30,40,50,60]\n",
        "print(list2)\n",
        "list2[2]=90#i replace 2nd element 40 by 90\n",
        "print(list2)\n",
        "list2[1:3]=[29,39,48]#i replace 1 to 3 all element\n",
        "print(list2)\n",
        "#deleting element\n",
        "list3=[60,80,78,97,45]\n",
        "print(list3)\n",
        "del list3[1]#delete 1 index element using del\n",
        "print(list3)\n",
        "num=[30,56,78,98]\n",
        "item=num.pop()#pop or remove last element\n",
        "print(item)\n",
        "print(num)\n",
        "item2=num.pop(2)#pop or remove 2nd index element\n",
        "print(item2)\n",
        "print(num)"
      ]
    },
    {
      "cell_type": "code",
      "source": [
        "#4 Compare and contrast tuples and lists with examples\n",
        "list1 = [1, 2, 3]\n",
        "list1[0] = 10  # Modify an element\n",
        "list1.append(4)  # Add an element\n",
        "print(list1)\n",
        "\n",
        "# Tuple example\n",
        "tuple1 = (1, 2, 3)\n",
        "# tuple[0] = 10  # This would raise a TypeError\n"
      ],
      "metadata": {
        "colab": {
          "base_uri": "https://localhost:8080/"
        },
        "id": "88GixNwh-Yna",
        "outputId": "dcb46551-5a2a-4eb3-d0ec-a8c0adc6fff8"
      },
      "execution_count": null,
      "outputs": [
        {
          "output_type": "stream",
          "name": "stdout",
          "text": [
            "[10, 2, 3, 4]\n"
          ]
        }
      ]
    },
    {
      "cell_type": "markdown",
      "source": [
        "# 1. list are mutable and modifying but tuple is not.\n",
        "# 2. list syntax is [].tuple syntax is ().\n",
        "# 3. list datas are changable but tuple datas are constant."
      ],
      "metadata": {
        "id": "gv5APg51_YYq"
      }
    },
    {
      "cell_type": "code",
      "source": [
        "#5 Describe the key features of sets and provide examples of their use\n",
        "set1 = {1, 2, 3}\n",
        "set1.add(4)\n",
        "print(set1)\n",
        "# Using remove()\n",
        "set1.remove(3)\n",
        "print(set1)\n",
        "\n",
        "# Using discard() (does not raise error if element not found)\n",
        "set1.discard(5)  # Does nothing, no error raised\n",
        "print(set1)  # Output: {1, 2, 4}\n",
        "\n",
        "set1 = {1, 2, 3}\n",
        "set2 = {3, 4, 5}\n",
        "union_set = set1 | set2  # or set1.union(set2)\n",
        "print(union_set)\n",
        "intersection_set = set1 & set2  # or set1.intersection(set2)\n",
        "print(intersection_set)\n",
        "# list1 = [1, 2, 2, 3, 4, 4, 5]\n",
        "# set3 = set(list1)\n",
        "# print(set3)\n",
        "my_set = {1, 2, 3, 4, 5}\n",
        "print(3 in my_set)  #  True\n",
        "print(6 in my_set)  #  False\n",
        "\n",
        "\n"
      ],
      "metadata": {
        "colab": {
          "base_uri": "https://localhost:8080/"
        },
        "id": "dWjOFfsAAmt4",
        "outputId": "4e8c4adf-ef22-4966-e9bc-b3cad7593f29"
      },
      "execution_count": null,
      "outputs": [
        {
          "output_type": "stream",
          "name": "stdout",
          "text": [
            "{1, 2, 3, 4}\n",
            "{1, 2, 4}\n",
            "{1, 2, 4}\n",
            "{1, 2, 3, 4, 5}\n",
            "{3}\n",
            "True\n",
            "False\n"
          ]
        }
      ]
    },
    {
      "cell_type": "markdown",
      "source": [
        "#Key Features of Sets in Python\n",
        "#A set is an unordered collection of unique elements in Python. Sets are a built-in data type that provides efficient operations, set operations (like union, intersection, etc.).\n",
        "#Key Features of Sets:\n",
        "#1.Unordered: Sets do not guarantee any specific order of elements. The elements can be iterated in any order.\n",
        "#2.Unique Elements: Sets automatically eliminate duplicate values. If you try to add a duplicate element, it will be ignored.\n",
        "#3.Mutable: Sets are mutable, meaning you can add or remove elements after the set is created.\n",
        "#4.No Indexing or Slicing: Since sets are unordered, you cannot access elements by index or slice them."
      ],
      "metadata": {
        "id": "BrYzXBLEqP84"
      }
    },
    {
      "cell_type": "code",
      "source": [
        "#6 Discuss the use cases of tuples and sets in Python programming.\n",
        "# tuples\n",
        "def get_point():\n",
        "    # Return multiple values as a tuple\n",
        "    return (3, 4)\n",
        "\n",
        "x, y = get_point()\n",
        "print(x, y)\n",
        "\n",
        "# Union of two sets\n",
        "set1 = {1, 2, 3}\n",
        "set2 = {3, 4, 5}\n",
        "union_set = set1 | set2\n",
        "print(union_set)\n",
        "\n",
        "# Intersection of two sets\n",
        "intersection_set = set1 & set2\n",
        "print(intersection_set)\n",
        "\n"
      ],
      "metadata": {
        "colab": {
          "base_uri": "https://localhost:8080/"
        },
        "id": "a-hPLcVAAT4_",
        "outputId": "a757226e-02f7-4ade-9e9f-78a3240457e6"
      },
      "execution_count": null,
      "outputs": [
        {
          "output_type": "stream",
          "name": "stdout",
          "text": [
            "3 4\n",
            "{1, 2, 3, 4, 5}\n",
            "{3}\n"
          ]
        }
      ]
    },
    {
      "cell_type": "markdown",
      "source": [
        "#TUPLE\n",
        "#1 Storing Fixed Collections of Data.\n",
        "#2  Function Returns.\n",
        "\n",
        "#SET\n",
        "# 1 Removing duplicates from a list using a set.\n",
        "#2 mathematical operation."
      ],
      "metadata": {
        "id": "C-HUGj9YBIYl"
      }
    },
    {
      "cell_type": "code",
      "source": [
        "#7 Describe how to add, modify, and delete items in a dictionary with examples\n",
        "\n",
        "dictionary = {\"name\": \"shyam\", \"age\": 19}\n",
        "\n",
        "# Adding a new\n",
        "dictionary[\"city\"] = \"kolkata\"\n",
        "print(dictionary)\n",
        "\n",
        "# modifying an existing key\n",
        "dictionary[\"age\"] = 26  # Modifies the value 'age'\n",
        "print(dictionary)\n",
        "# Creating an initial dictionary\n",
        "student = {\"name\": \"John\", \"age\": 25, \"city\": \"New York\"}\n",
        "# Deleting an item by key\n",
        "del dictionary[\"age\"]\n",
        "print(dictionary)"
      ],
      "metadata": {
        "colab": {
          "base_uri": "https://localhost:8080/"
        },
        "id": "oqVL2FIsAbix",
        "outputId": "f684af77-3890-47ca-da3d-7bc28c1476c1"
      },
      "execution_count": null,
      "outputs": [
        {
          "output_type": "stream",
          "name": "stdout",
          "text": [
            "{'name': 'shyam', 'age': 19, 'city': 'kolkata'}\n",
            "{'name': 'shyam', 'age': 26, 'city': 'kolkata'}\n",
            "{'name': 'shyam', 'city': 'kolkata'}\n"
          ]
        }
      ]
    },
    {
      "cell_type": "code",
      "source": [
        "#8 Discuss the importance of dictionary keys being immutable and provide examples\n",
        "# Using strings as dictionary keys\n",
        "my_dict = {\n",
        "    \"name\": \"soumen\",\n",
        "    \"age\": 20,\n",
        "    \"location\": \"kolkata\"\n",
        "}\n",
        "\n",
        "print(my_dict)\n",
        "\n",
        "# Trying to use a list as a dictionary key\n",
        "# my_dict = {['a', 'b', 'c']: \"hello\"}  # This will make an error\n"
      ],
      "metadata": {
        "colab": {
          "base_uri": "https://localhost:8080/"
        },
        "id": "l1vi_a4VAhgC",
        "outputId": "a0c632e5-8d3a-4519-ba05-694ad3072acc"
      },
      "execution_count": null,
      "outputs": [
        {
          "output_type": "stream",
          "name": "stdout",
          "text": [
            "{'name': 'soumen', 'age': 20, 'location': 'kolkata'}\n"
          ]
        }
      ]
    },
    {
      "cell_type": "markdown",
      "source": [
        "#8] Discuss the importance of dictionary keys being immutable and provide examples.\n",
        "#:- In Python, dictionaries are used to store key-value pairs, where each key is attached with a value. One of the key characteristics of dictionaries is that the keys must be immutable.\n",
        "#1. Types of Immutable Objects:-Python provides several immutable data types that can be used as dictionary keys:-\n",
        "#Numbers (int, float, etc.)\n",
        "#Strings\n",
        "#Tuples (only if they contain other immutable objects)\n",
        "#2. Since lists and other mutable types can change their contents and therefore their hash value, they cannot be used as dictionary keys.\n",
        "#3.Reliability: If mutable objects were used as keys, modifying them would lead to inconsistent and unpredictable behavior.\n",
        "\n"
      ],
      "metadata": {
        "id": "d7lWi8UGn6_8"
      }
    }
  ]
}